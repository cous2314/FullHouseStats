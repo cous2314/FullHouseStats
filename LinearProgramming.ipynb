{
 "cells": [
  {
   "cell_type": "code",
   "execution_count": 3,
   "id": "1299fab5-b587-4d6b-95ba-976ca85c992c",
   "metadata": {
    "tags": []
   },
   "outputs": [
    {
     "name": "stdout",
     "output_type": "stream",
     "text": [
      "/opt/homebrew/Cellar/jupyterlab/3.6.3/libexec/bin/python3.11\n"
     ]
    }
   ],
   "source": [
    "import sys\n",
    "print(sys.executable)"
   ]
  },
  {
   "cell_type": "code",
   "execution_count": 4,
   "id": "8f44258c-2fbe-4b8f-b707-1f52308cdf6b",
   "metadata": {
    "tags": []
   },
   "outputs": [],
   "source": [
    "import pulp as p"
   ]
  },
  {
   "cell_type": "code",
   "execution_count": 5,
   "id": "43022a8d-35e4-4943-912c-39380c8b1fc4",
   "metadata": {
    "tags": []
   },
   "outputs": [
    {
     "name": "stdout",
     "output_type": "stream",
     "text": [
      "{'tumor': 0.81, 'boneMarrow': 0.019, 'kidney': 0.008}\n"
     ]
    }
   ],
   "source": [
    "mibg = {'tumor':.81, 'boneMarrow':.019,'kidney':.008}\n",
    "dota = {'tumor':1.08,'bonemarrow':.0135,'kidney':.216}\n",
    "\n",
    "boneMarrowMax = 300\n",
    "kidneyMax = 2300"
   ]
  },
  {
   "cell_type": "code",
   "execution_count": null,
   "id": "83eba0c3-7342-499b-9ffd-f29de2892d47",
   "metadata": {},
   "outputs": [],
   "source": []
  }
 ],
 "metadata": {
  "kernelspec": {
   "display_name": "Python 3 (ipykernel)",
   "language": "python",
   "name": "python3"
  },
  "language_info": {
   "codemirror_mode": {
    "name": "ipython",
    "version": 3
   },
   "file_extension": ".py",
   "mimetype": "text/x-python",
   "name": "python",
   "nbconvert_exporter": "python",
   "pygments_lexer": "ipython3",
   "version": "3.11.3"
  }
 },
 "nbformat": 4,
 "nbformat_minor": 5
}
