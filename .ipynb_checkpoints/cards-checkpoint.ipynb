{
 "cells": [
  {
   "cell_type": "code",
   "execution_count": 45,
   "id": "e31e62f8-74f8-4c8e-a945-f41e106145a5",
   "metadata": {
    "tags": []
   },
   "outputs": [],
   "source": [
    "import random\n",
    "\n",
    "def createSuite(someList):\n",
    "    for i in range(1,15):\n",
    "        someList.append(i)\n",
    "        \n",
    "def createDeck(cardsList, suite1,suite2,suite3,suite4):\n",
    "    cardsList.append(suite1)\n",
    "    cardsList.append(suite2)\n",
    "    cardsList.append(suite3)\n",
    "    cardsList.append(suite4)\n",
    "    \n",
    "def drawSuite():\n",
    "    return random.randint(0,3)\n",
    "    \n",
    "def drawNumber():\n",
    "    return random.randint(1,14)\n",
    "\n",
    "def resetVariables(handList,Fullhouse,indexNum,cardNumb,Fullhouse1Num,fullHouse2Num):\n",
    "    handList.clear()\n",
    "    Fullhouse.clear()\n",
    "    indexNum = 1\n",
    "    cardNumb = 1\n",
    "    Fullhouse1Num = 0\n",
    "    Fullhouse2Num = 0\n",
    "    \n",
    "def printStats(FullHouseWin, Trials):\n",
    "    print(f'Full House Stats: {fullHouseWin} / {trials} = {fullHouseWin/trials}')\n",
    "\n"
   ]
  },
  {
   "cell_type": "code",
   "execution_count": 46,
   "id": "f8e587d6-7edd-471a-8cac-b1015d6cb3c7",
   "metadata": {
    "tags": []
   },
   "outputs": [],
   "source": [
    "# #cards[x] = suite\n",
    "# #cards[x][y] = number\n",
    "suite = {0:\"clubs\", 1:\"spades\", 2:\"diamonds\",3:\"hearts\"}\n",
    "cards = []\n",
    "clubs = []\n",
    "spades = []\n",
    "diamonds = []\n",
    "hearts = []\n",
    "hand = {}\n",
    "cardDrawn = ()\n",
    "trials = 2\n",
    "drawCards = 6\n",
    "index = 1\n",
    "cardNum = 1\n",
    "fullHouse = []\n",
    "fullHouse1 = 0\n",
    "fullHouse2 = 0\n",
    "fullHouseWin = 0\n",
    "\n",
    "createSuite(clubs)\n",
    "createSuite(spades)\n",
    "createSuite(diamonds)\n",
    "createSuite(hearts)\n",
    "createDeck(cards, clubs, spades, diamonds, hearts)\n",
    "\n"
   ]
  },
  {
   "cell_type": "code",
   "execution_count": 47,
   "id": "656f3837-fa73-4efa-8cb7-00ef5b89eb94",
   "metadata": {
    "tags": []
   },
   "outputs": [],
   "source": [
    "## TRIALS AND PRINT CARDS HERE \n",
    "\n",
    "trials = 1000000\n",
    "\n",
    "printCards = 0\n",
    "\n",
    "## TRIALS AND PRINT CARDS HERE\n"
   ]
  },
  {
   "cell_type": "code",
   "execution_count": 48,
   "id": "f5d683e4-cf6a-4d46-b07c-11971b291560",
   "metadata": {
    "tags": []
   },
   "outputs": [
    {
     "name": "stdout",
     "output_type": "stream",
     "text": [
      "Full House Stats: 1128 / 1000000 = 0.001128\n"
     ]
    }
   ],
   "source": [
    "for i in range(0,trials):\n",
    "    \n",
    "    while len(hand) < 5:\n",
    "        \n",
    "        cardDrawn = (drawSuite(),drawNumber())\n",
    "        \n",
    "        if cardDrawn in hand.values():\n",
    "            pass\n",
    "        else:\n",
    "            hand[\"card\"+str(index)] = cardDrawn\n",
    "            fullHouse.append(cardDrawn[1])\n",
    "        \n",
    "        index +=1\n",
    "    index = 0\n",
    "    for j in range(0,len(fullHouse)):\n",
    "        fullHouse1 = fullHouse[0]\n",
    "        if fullHouse1 != fullHouse[j]:\n",
    "            fullHouse2 = fullHouse[j]\n",
    "            \n",
    "    if fullHouse.count(fullHouse1) == 3:\n",
    "        if fullHouse.count(fullHouse2) == 2:   \n",
    "            if printCards == 1:\n",
    "                print(\"Full House\")\n",
    "            fullHouseWin += 1\n",
    "            \n",
    "    elif fullHouse.count(fullHouse1)==2:\n",
    "        if fullHouse.count(fullHouse2)==3:\n",
    "            if printCards == 1:\n",
    "                print(\"Full House\")\n",
    "            fullHouseWin += 1\n",
    "            \n",
    "    if printCards == 1:\n",
    "            \n",
    "        print(f'Hand {i}: ')\n",
    "\n",
    "        for v in hand.values():\n",
    "            for k,val in suite.items():     \n",
    "                if v[0] == k:\n",
    "                    print(f'Card {cardNum}: {v[1]} of {val}')\n",
    "                    cardNum+=1\n",
    "        \n",
    "        \n",
    "    resetVariables(hand,fullHouse,index,cardNum,fullHouse1,fullHouse2)\n",
    "    \n",
    "printStats(fullHouseWin, trials) \n",
    "fullHouseWin = 0"
   ]
  }
 ],
 "metadata": {
  "kernelspec": {
   "display_name": "Python 3 (ipykernel)",
   "language": "python",
   "name": "python3"
  },
  "language_info": {
   "codemirror_mode": {
    "name": "ipython",
    "version": 3
   },
   "file_extension": ".py",
   "mimetype": "text/x-python",
   "name": "python",
   "nbconvert_exporter": "python",
   "pygments_lexer": "ipython3",
   "version": "3.11.3"
  }
 },
 "nbformat": 4,
 "nbformat_minor": 5
}
